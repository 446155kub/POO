{
  "nbformat": 4,
  "nbformat_minor": 0,
  "metadata": {
    "colab": {
      "provenance": []
    },
    "kernelspec": {
      "name": "python3",
      "display_name": "Python 3"
    },
    "language_info": {
      "name": "python"
    }
  },
  "cells": [
    {
      "cell_type": "markdown",
      "source": [
        "Lista de 16 elementos, transformar en una matriz de 4x4"
      ],
      "metadata": {
        "id": "hzlP8kY3nJzU"
      }
    },
    {
      "cell_type": "code",
      "source": [
        "import numpy as np\n"
      ],
      "metadata": {
        "id": "qGvOZcxUpU6E"
      },
      "execution_count": null,
      "outputs": []
    },
    {
      "cell_type": "code",
      "source": [
        "lista= np.random.randint(1, 17, 16) # Dame 16 numero al azar del 1 al 17\n",
        "lista\n"
      ],
      "metadata": {
        "colab": {
          "base_uri": "https://localhost:8080/"
        },
        "id": "5PV1HyqUsUtJ",
        "outputId": "efac3498-9bf0-4b7c-a4b7-d21c10994103"
      },
      "execution_count": null,
      "outputs": [
        {
          "output_type": "execute_result",
          "data": {
            "text/plain": [
              "array([ 5,  5,  4,  8,  8, 13, 12, 13,  2,  1, 12,  9, 13, 13,  2, 12])"
            ]
          },
          "metadata": {},
          "execution_count": 22
        }
      ]
    },
    {
      "cell_type": "code",
      "source": [
        "import numpy as np\n",
        "\n",
        "matriz = np.random.randint(1, 17, 16) # Dame 16 numero al azar del 1 al 17\n",
        "matriz = np.array(matriz).reshape(4, 4) #Crear una matriz de 4x4.\n",
        "\n",
        "print(matriz)\n"
      ],
      "metadata": {
        "colab": {
          "base_uri": "https://localhost:8080/"
        },
        "id": "1oNz7uT7pZYu",
        "outputId": "00b56364-6243-4e3b-f730-edc6eca788e2"
      },
      "execution_count": null,
      "outputs": [
        {
          "output_type": "stream",
          "name": "stdout",
          "text": [
            "[[16 13  5 14]\n",
            " [13 10  5  2]\n",
            " [ 6 13 15  9]\n",
            " [ 3  7  3  3]]\n"
          ]
        }
      ]
    },
    {
      "cell_type": "code",
      "source": [
        "import numpy as np\n",
        "\n",
        "matriz = np.random.randint(1, 17, 16)\n",
        "matriz = np.array(matriz).reshape(4, 4)\n",
        "\n",
        "(np.linalg.det(matriz)) #Calcula el determinante\n",
        "\n",
        "print(matriz)"
      ],
      "metadata": {
        "colab": {
          "base_uri": "https://localhost:8080/"
        },
        "id": "X56cfL3LrJdc",
        "outputId": "d7ea1cee-1b04-4ba2-c8ba-150e8eefa38d"
      },
      "execution_count": null,
      "outputs": [
        {
          "output_type": "stream",
          "name": "stdout",
          "text": [
            "[[ 1 16 14  5]\n",
            " [ 4  1 14  1]\n",
            " [ 2 14 13 12]\n",
            " [ 2 14 14  8]]\n"
          ]
        }
      ]
    },
    {
      "cell_type": "markdown",
      "source": [
        "Areas, Perimetros de triangulos equilateros"
      ],
      "metadata": {
        "id": "_evHaPh4sgYG"
      }
    },
    {
      "cell_type": "code",
      "source": [
        "import numpy\n",
        "\n",
        "class Triangulo:   #Creamos clase triangulo\n",
        "    def __init__(self, lado):\n",
        "        self.lado = lado\n",
        "\n",
        "#Calcula el area del tringulo\n",
        "class Formula(Triangulo):\n",
        "    def area(self):\n",
        "        return (self.lado * 2 * numpy.sqrt(3))/2\n",
        "\n",
        "    def perimetro(self): #Calcula el perimetro\n",
        "        return self.lado * 3\n",
        "\n",
        "\n",
        "\n",
        "\n",
        "\n",
        "\n",
        "\n"
      ],
      "metadata": {
        "id": "oN2gEywm3Rvv"
      },
      "execution_count": 36,
      "outputs": []
    }
  ]
}