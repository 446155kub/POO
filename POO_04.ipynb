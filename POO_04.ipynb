{
  "nbformat": 4,
  "nbformat_minor": 0,
  "metadata": {
    "colab": {
      "provenance": []
    },
    "kernelspec": {
      "name": "python3",
      "display_name": "Python 3"
    },
    "language_info": {
      "name": "python"
    }
  },
  "cells": [
    {
      "cell_type": "markdown",
      "source": [
        "## Matrices"
      ],
      "metadata": {
        "id": "3exCK40Jm594"
      }
    },
    {
      "cell_type": "code",
      "source": [
        "import numpy as np"
      ],
      "metadata": {
        "id": "PDfxr_XYoQ58"
      },
      "execution_count": 4,
      "outputs": []
    },
    {
      "cell_type": "code",
      "source": [
        "np.random.seed(1)\n",
        "\n",
        "np.random.randint(1,21,  size =15)  # Se escoge numeros al azar del 1 al 15"
      ],
      "metadata": {
        "colab": {
          "base_uri": "https://localhost:8080/"
        },
        "id": "55Fo3bW8oU_T",
        "outputId": "0ef8afc5-6248-49f4-a371-1c95bbf13235"
      },
      "execution_count": 10,
      "outputs": [
        {
          "output_type": "execute_result",
          "data": {
            "text/plain": [
              "array([ 6, 12, 13,  9, 10, 12,  6, 16,  1, 17,  2, 13,  8, 14,  7])"
            ]
          },
          "metadata": {},
          "execution_count": 10
        }
      ]
    },
    {
      "cell_type": "code",
      "source": [
        "L = [i for i in np.random.randint(1,21,  size =40) if i%2==0]  # Sobre los numeros que dio se escogen los pares\n",
        "L.sort()\n",
        "L"
      ],
      "metadata": {
        "colab": {
          "base_uri": "https://localhost:8080/"
        },
        "id": "Co9lGGGsogyo",
        "outputId": "bf54defb-bcc3-4b74-9eb1-b4fe9e93a350"
      },
      "execution_count": 15,
      "outputs": [
        {
          "output_type": "execute_result",
          "data": {
            "text/plain": [
              "[2, 4, 4, 4, 6, 8, 10, 12, 14, 14, 16, 16, 16, 18, 20, 20, 20, 20, 20, 20, 20]"
            ]
          },
          "metadata": {},
          "execution_count": 15
        }
      ]
    },
    {
      "cell_type": "code",
      "source": [
        "L.remove(8) #Se remueve el numero 8\n",
        "L"
      ],
      "metadata": {
        "colab": {
          "base_uri": "https://localhost:8080/"
        },
        "id": "rPPqYPVmpZxn",
        "outputId": "4b60ee4f-781a-4b6e-c733-66396f748cd7"
      },
      "execution_count": 21,
      "outputs": [
        {
          "output_type": "execute_result",
          "data": {
            "text/plain": [
              "[2, 6, 10, 12, 14, 14, 16, 16, 16, 18, 20, 20, 20, 20, 20, 20]"
            ]
          },
          "metadata": {},
          "execution_count": 21
        }
      ]
    },
    {
      "cell_type": "code",
      "source": [
        "L + [4] #Se agrega el numero 4 al final de la lista"
      ],
      "metadata": {
        "colab": {
          "base_uri": "https://localhost:8080/"
        },
        "id": "YngIVBeatWyd",
        "outputId": "626fa66a-3569-4ba4-94f0-afff316a5603"
      },
      "execution_count": 27,
      "outputs": [
        {
          "output_type": "execute_result",
          "data": {
            "text/plain": [
              "[6, 10, 12, 14, 16, 16, 16, 18, 20, 20, 20, 20, 20, 20, 4]"
            ]
          },
          "metadata": {},
          "execution_count": 27
        }
      ]
    },
    {
      "cell_type": "code",
      "source": [
        "L.pop(4)"
      ],
      "metadata": {
        "colab": {
          "base_uri": "https://localhost:8080/"
        },
        "id": "i8mLg54_u8AC",
        "outputId": "d1c8a551-9583-4401-a60c-451b0c99fba1"
      },
      "execution_count": 29,
      "outputs": [
        {
          "output_type": "execute_result",
          "data": {
            "text/plain": [
              "16"
            ]
          },
          "metadata": {},
          "execution_count": 29
        }
      ]
    },
    {
      "cell_type": "code",
      "source": [
        "L_arreglo = np.array(L) #Se hace un arreglo\n",
        "L_arreglo"
      ],
      "metadata": {
        "colab": {
          "base_uri": "https://localhost:8080/"
        },
        "id": "HwwHkzKQwXf4",
        "outputId": "19c7a614-2371-4685-c9bf-d04c6ab04bc3"
      },
      "execution_count": 25,
      "outputs": [
        {
          "output_type": "execute_result",
          "data": {
            "text/plain": [
              "array([ 6, 10, 12, 14, 16, 16, 16, 18, 20, 20, 20, 20, 20, 20])"
            ]
          },
          "metadata": {},
          "execution_count": 25
        }
      ]
    },
    {
      "cell_type": "code",
      "source": [
        "len(L_arreglo)"
      ],
      "metadata": {
        "colab": {
          "base_uri": "https://localhost:8080/"
        },
        "id": "qAEUc2oWxLug",
        "outputId": "cb2c1fe6-a5e1-4772-a3d4-c99d27c9e464"
      },
      "execution_count": 34,
      "outputs": [
        {
          "output_type": "execute_result",
          "data": {
            "text/plain": [
              "14"
            ]
          },
          "metadata": {},
          "execution_count": 34
        }
      ]
    },
    {
      "cell_type": "code",
      "source": [
        "L_arreglo.reshape(7,2)  # Se crean matrices de 7x2\n",
        "\n"
      ],
      "metadata": {
        "colab": {
          "base_uri": "https://localhost:8080/"
        },
        "id": "73UeDR6_xx3N",
        "outputId": "e8053dfb-d791-4e9b-bf6e-584f460f974b"
      },
      "execution_count": 38,
      "outputs": [
        {
          "output_type": "execute_result",
          "data": {
            "text/plain": [
              "array([[ 6, 10],\n",
              "       [12, 14],\n",
              "       [16, 16],\n",
              "       [16, 18],\n",
              "       [20, 20],\n",
              "       [20, 20],\n",
              "       [20, 20]])"
            ]
          },
          "metadata": {},
          "execution_count": 38
        }
      ]
    },
    {
      "cell_type": "code",
      "source": [
        "M_Matriz = np.array([2,3,14,19,13,0,2,25,6,]).reshape(3,3)  #Se crean matrices\n",
        "M_Matriz"
      ],
      "metadata": {
        "colab": {
          "base_uri": "https://localhost:8080/"
        },
        "id": "bTmu2Hby0nEu",
        "outputId": "6fc75065-0c11-4592-ffef-68661ef4bc83"
      },
      "execution_count": 49,
      "outputs": [
        {
          "output_type": "execute_result",
          "data": {
            "text/plain": [
              "array([[ 2,  3, 14],\n",
              "       [19, 13,  0],\n",
              "       [ 2, 25,  6]])"
            ]
          },
          "metadata": {},
          "execution_count": 49
        }
      ]
    },
    {
      "cell_type": "code",
      "source": [
        "A_Matriz = np.array([1,5,7,96,87,45,25,95,78,]).reshape(3,3) #Se crean matrices\n",
        "A_Matriz"
      ],
      "metadata": {
        "colab": {
          "base_uri": "https://localhost:8080/"
        },
        "id": "LP5zwERo1ZCV",
        "outputId": "823a8a47-1288-4c7c-c55c-76c13dc39a62"
      },
      "execution_count": 43,
      "outputs": [
        {
          "output_type": "execute_result",
          "data": {
            "text/plain": [
              "array([[ 1,  5,  7],\n",
              "       [96, 87, 45],\n",
              "       [25, 95, 78]])"
            ]
          },
          "metadata": {},
          "execution_count": 43
        }
      ]
    },
    {
      "cell_type": "code",
      "source": [
        "M_Matriz@A_Matriz       # Multiplicacion de matrices"
      ],
      "metadata": {
        "colab": {
          "base_uri": "https://localhost:8080/"
        },
        "id": "oqc2KVfl2YY9",
        "outputId": "e5c123f7-d720-498f-f59e-d0cc7ef4b0bb"
      },
      "execution_count": 50,
      "outputs": [
        {
          "output_type": "execute_result",
          "data": {
            "text/plain": [
              "array([[ 640, 1601, 1241],\n",
              "       [1267, 1226,  718],\n",
              "       [2552, 2755, 1607]])"
            ]
          },
          "metadata": {},
          "execution_count": 50
        }
      ]
    }
  ]
}