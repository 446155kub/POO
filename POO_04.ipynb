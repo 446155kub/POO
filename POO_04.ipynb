{
  "nbformat": 4,
  "nbformat_minor": 0,
  "metadata": {
    "colab": {
      "provenance": []
    },
    "kernelspec": {
      "name": "python3",
      "display_name": "Python 3"
    },
    "language_info": {
      "name": "python"
    }
  },
  "cells": [
    {
      "cell_type": "markdown",
      "source": [
        "##Area de un triangulo isosceles"
      ],
      "metadata": {
        "id": "vy0ETlpNXw2H"
      }
    },
    {
      "cell_type": "code",
      "source": [
        "\n",
        "def area(b, h):\n",
        "    return b * h / 2"
      ],
      "metadata": {
        "id": "wz4S5nk9YTdW"
      },
      "execution_count": null,
      "outputs": []
    },
    {
      "cell_type": "code",
      "source": [
        "area (155,12)"
      ],
      "metadata": {
        "colab": {
          "base_uri": "https://localhost:8080/"
        },
        "id": "phPO6EODZfPU",
        "outputId": "8f8e1735-b1c6-4156-a30e-1fdfbfeb5a50"
      },
      "execution_count": 44,
      "outputs": [
        {
          "output_type": "execute_result",
          "data": {
            "text/plain": [
              "930.0"
            ]
          },
          "metadata": {},
          "execution_count": 44
        }
      ]
    },
    {
      "cell_type": "code",
      "source": [
        "def perimetro(b, l):\n",
        "  p=(b*2)+l\n",
        "  return p\n"
      ],
      "metadata": {
        "id": "3kLiyTvWZfUN"
      },
      "execution_count": null,
      "outputs": []
    },
    {
      "cell_type": "code",
      "source": [
        "perimetro (1,1)"
      ],
      "metadata": {
        "colab": {
          "base_uri": "https://localhost:8080/"
        },
        "id": "XphSPReObNDh",
        "outputId": "2094d1e8-315d-4b79-bd63-0100fabb1dd1"
      },
      "execution_count": null,
      "outputs": [
        {
          "output_type": "execute_result",
          "data": {
            "text/plain": [
              "3"
            ]
          },
          "metadata": {},
          "execution_count": 30
        }
      ]
    },
    {
      "cell_type": "markdown",
      "source": [
        "##Numero par o impar"
      ],
      "metadata": {
        "id": "m3clfSTcb0mx"
      }
    },
    {
      "cell_type": "code",
      "source": [
        "def numero(x):\n",
        "    resultado = x % 2\n",
        "    if resultado == 0:\n",
        "        print(\"par\")\n",
        "    else:\n",
        "        print(\"impar\")\n"
      ],
      "metadata": {
        "id": "vxp01iizb3hx"
      },
      "execution_count": 50,
      "outputs": []
    },
    {
      "cell_type": "code",
      "source": [
        "numero (10)"
      ],
      "metadata": {
        "colab": {
          "base_uri": "https://localhost:8080/"
        },
        "id": "KeRVyuDim9XK",
        "outputId": "74c43829-dbdc-4cbe-e93c-641a52acfc63"
      },
      "execution_count": 51,
      "outputs": [
        {
          "output_type": "stream",
          "name": "stdout",
          "text": [
            "par\n"
          ]
        }
      ]
    },
    {
      "cell_type": "markdown",
      "source": [
        "## numero perfecto o imperfecto"
      ],
      "metadata": {
        "id": "kXrTRnJnn9hl"
      }
    },
    {
      "cell_type": "code",
      "source": [
        "Perfectos = [i for i in range(1,28) if 28%i==0 ]\n",
        "Perfectos\n"
      ],
      "metadata": {
        "colab": {
          "base_uri": "https://localhost:8080/"
        },
        "id": "t6TkMVyOoQnW",
        "outputId": "6ad4c01a-bbea-4715-8ee3-527734c582cf"
      },
      "execution_count": 53,
      "outputs": [
        {
          "output_type": "execute_result",
          "data": {
            "text/plain": [
              "[1, 2, 4, 7, 14]"
            ]
          },
          "metadata": {},
          "execution_count": 53
        }
      ]
    },
    {
      "cell_type": "code",
      "source": [
        "if sum(Perfectos) == 28:\n",
        "    print(\"perfecto\")\n",
        "else:\n",
        "    print(\"imperfecto\")\n",
        "\n"
      ],
      "metadata": {
        "colab": {
          "base_uri": "https://localhost:8080/"
        },
        "id": "ky6AlNxJqb9E",
        "outputId": "d72ba3aa-f60d-4274-f40c-9d36ac9fbf39"
      },
      "execution_count": 59,
      "outputs": [
        {
          "output_type": "stream",
          "name": "stdout",
          "text": [
            "perfecto\n"
          ]
        }
      ]
    }
  ]
}