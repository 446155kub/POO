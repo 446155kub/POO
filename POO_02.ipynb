{
  "nbformat": 4,
  "nbformat_minor": 0,
  "metadata": {
    "colab": {
      "provenance": [],
      "authorship_tag": "ABX9TyOCLMp/zXSYJRK1kUSy9KSt",
      "include_colab_link": true
    },
    "kernelspec": {
      "name": "python3",
      "display_name": "Python 3"
    },
    "language_info": {
      "name": "python"
    }
  },
  "cells": [
    {
      "cell_type": "markdown",
      "metadata": {
        "id": "view-in-github",
        "colab_type": "text"
      },
      "source": [
        "<a href=\"https://colab.research.google.com/github/446155kub/POO/blob/main/POO_02.ipynb\" target=\"_parent\"><img src=\"https://colab.research.google.com/assets/colab-badge.svg\" alt=\"Open In Colab\"/></a>"
      ]
    },
    {
      "cell_type": "markdown",
      "source": [
        "# Listas\n"
      ],
      "metadata": {
        "id": "cIcBn17MTZGY"
      }
    },
    {
      "cell_type": "code",
      "source": [
        "#Vamos a generar una lista vacia.\n",
        "\n",
        "L = []\n",
        "\n",
        "range(10)"
      ],
      "metadata": {
        "colab": {
          "base_uri": "https://localhost:8080/"
        },
        "id": "4bKs_x8VTqSq",
        "outputId": "31842302-4853-4946-b836-629a0682b40b"
      },
      "execution_count": null,
      "outputs": [
        {
          "output_type": "execute_result",
          "data": {
            "text/plain": [
              "range(0, 10)"
            ]
          },
          "metadata": {},
          "execution_count": 1
        }
      ]
    },
    {
      "cell_type": "code",
      "source": [
        "L = [1,2,3,4]\n",
        "L"
      ],
      "metadata": {
        "colab": {
          "base_uri": "https://localhost:8080/"
        },
        "id": "ZU_-gfafV_tl",
        "outputId": "ac2979e5-75cb-4938-fdf3-31e27dc23bfa"
      },
      "execution_count": null,
      "outputs": [
        {
          "output_type": "execute_result",
          "data": {
            "text/plain": [
              "[1, 2, 3, 4]"
            ]
          },
          "metadata": {},
          "execution_count": 4
        }
      ]
    },
    {
      "cell_type": "code",
      "source": [
        "L.append(5)\n",
        "L"
      ],
      "metadata": {
        "colab": {
          "base_uri": "https://localhost:8080/"
        },
        "id": "AlYBBnS_WtJs",
        "outputId": "b2ad98d2-eaf9-4ec5-c177-1838d0dbc186"
      },
      "execution_count": null,
      "outputs": [
        {
          "output_type": "execute_result",
          "data": {
            "text/plain": [
              "[1, 2, 3, 4, 5, 5, 5]"
            ]
          },
          "metadata": {},
          "execution_count": 7
        }
      ]
    },
    {
      "cell_type": "code",
      "source": [
        "\n",
        "for i in range(11): print(i)"
      ],
      "metadata": {
        "colab": {
          "base_uri": "https://localhost:8080/"
        },
        "id": "F8fEXJjAVlfP",
        "outputId": "1a5d4654-82a2-4646-83a5-f2b282add816"
      },
      "execution_count": null,
      "outputs": [
        {
          "output_type": "stream",
          "name": "stdout",
          "text": [
            "0\n",
            "1\n",
            "2\n",
            "3\n",
            "4\n",
            "5\n",
            "6\n",
            "7\n",
            "8\n",
            "9\n",
            "10\n"
          ]
        }
      ]
    },
    {
      "cell_type": "markdown",
      "source": [
        "# Listas de comprension"
      ],
      "metadata": {
        "id": "9i22CgBZZ-iB"
      }
    },
    {
      "cell_type": "code",
      "source": [
        "type ([])"
      ],
      "metadata": {
        "colab": {
          "base_uri": "https://localhost:8080/"
        },
        "id": "zwbW2k2paDew",
        "outputId": "65c9ba3d-9cbb-4a11-f093-21d7a2cee202"
      },
      "execution_count": null,
      "outputs": [
        {
          "output_type": "execute_result",
          "data": {
            "text/plain": [
              "list"
            ]
          },
          "metadata": {},
          "execution_count": 8
        }
      ]
    },
    {
      "cell_type": "code",
      "source": [
        "len([2,4,6,8])\n"
      ],
      "metadata": {
        "colab": {
          "base_uri": "https://localhost:8080/"
        },
        "id": "LQprTeiuapnx",
        "outputId": "c5397ca3-7931-45cc-976b-b15e01467690"
      },
      "execution_count": null,
      "outputs": [
        {
          "output_type": "execute_result",
          "data": {
            "text/plain": [
              "4"
            ]
          },
          "metadata": {},
          "execution_count": 9
        }
      ]
    },
    {
      "cell_type": "code",
      "source": [
        "#lista de pares\n",
        "\n",
        "pares  = [i for i in range(1,101) if i%2==0]\n",
        "pares"
      ],
      "metadata": {
        "colab": {
          "base_uri": "https://localhost:8080/"
        },
        "id": "fasgNw6na4M4",
        "outputId": "2a5c416b-f41e-4a2f-cb65-9fbb4bf643b1"
      },
      "execution_count": null,
      "outputs": [
        {
          "output_type": "execute_result",
          "data": {
            "text/plain": [
              "[2,\n",
              " 4,\n",
              " 6,\n",
              " 8,\n",
              " 10,\n",
              " 12,\n",
              " 14,\n",
              " 16,\n",
              " 18,\n",
              " 20,\n",
              " 22,\n",
              " 24,\n",
              " 26,\n",
              " 28,\n",
              " 30,\n",
              " 32,\n",
              " 34,\n",
              " 36,\n",
              " 38,\n",
              " 40,\n",
              " 42,\n",
              " 44,\n",
              " 46,\n",
              " 48,\n",
              " 50,\n",
              " 52,\n",
              " 54,\n",
              " 56,\n",
              " 58,\n",
              " 60,\n",
              " 62,\n",
              " 64,\n",
              " 66,\n",
              " 68,\n",
              " 70,\n",
              " 72,\n",
              " 74,\n",
              " 76,\n",
              " 78,\n",
              " 80,\n",
              " 82,\n",
              " 84,\n",
              " 86,\n",
              " 88,\n",
              " 90,\n",
              " 92,\n",
              " 94,\n",
              " 96,\n",
              " 98,\n",
              " 100]"
            ]
          },
          "metadata": {},
          "execution_count": 14
        }
      ]
    },
    {
      "cell_type": "code",
      "source": [
        "\n",
        "impares  = [i for i in range(1,101) if i%3==0]\n",
        "impares"
      ],
      "metadata": {
        "colab": {
          "base_uri": "https://localhost:8080/"
        },
        "id": "Ni8j8Dzzd6zF",
        "outputId": "ceb22bb6-d5d2-4585-d619-33367d6f3904"
      },
      "execution_count": null,
      "outputs": [
        {
          "output_type": "execute_result",
          "data": {
            "text/plain": [
              "[3,\n",
              " 6,\n",
              " 9,\n",
              " 12,\n",
              " 15,\n",
              " 18,\n",
              " 21,\n",
              " 24,\n",
              " 27,\n",
              " 30,\n",
              " 33,\n",
              " 36,\n",
              " 39,\n",
              " 42,\n",
              " 45,\n",
              " 48,\n",
              " 51,\n",
              " 54,\n",
              " 57,\n",
              " 60,\n",
              " 63,\n",
              " 66,\n",
              " 69,\n",
              " 72,\n",
              " 75,\n",
              " 78,\n",
              " 81,\n",
              " 84,\n",
              " 87,\n",
              " 90,\n",
              " 93,\n",
              " 96,\n",
              " 99]"
            ]
          },
          "metadata": {},
          "execution_count": 18
        }
      ]
    },
    {
      "cell_type": "markdown",
      "source": [
        "## Modulo NumPy"
      ],
      "metadata": {
        "id": "QrUu5QlFfm7z"
      }
    },
    {
      "cell_type": "code",
      "source": [
        "import numpy as np\n"
      ],
      "metadata": {
        "id": "iVcJuAdOfrFk"
      },
      "execution_count": null,
      "outputs": []
    },
    {
      "cell_type": "code",
      "source": [
        "np.random.randint(1,101, 5)"
      ],
      "metadata": {
        "colab": {
          "base_uri": "https://localhost:8080/"
        },
        "id": "04TcZQD8gXyu",
        "outputId": "5276c297-019f-4996-cd72-25c45a10f839"
      },
      "execution_count": null,
      "outputs": [
        {
          "output_type": "execute_result",
          "data": {
            "text/plain": [
              "array([27, 22, 24, 55, 45])"
            ]
          },
          "metadata": {},
          "execution_count": 24
        }
      ]
    },
    {
      "cell_type": "markdown",
      "source": [
        "##Ejercicio"
      ],
      "metadata": {
        "id": "hbIeBaDPhaNV"
      }
    },
    {
      "cell_type": "code",
      "source": [
        "np.random.randint(1,10, 100)\n"
      ],
      "metadata": {
        "colab": {
          "base_uri": "https://localhost:8080/"
        },
        "id": "yZO5KnuRhUB_",
        "outputId": "db675964-2fd3-4e26-dacd-c6df33a83228"
      },
      "execution_count": 48,
      "outputs": [
        {
          "output_type": "execute_result",
          "data": {
            "text/plain": [
              "array([4, 7, 2, 2, 2, 9, 4, 9, 8, 9, 1, 2, 6, 2, 4, 3, 2, 8, 3, 9, 8, 1,\n",
              "       9, 1, 9, 9, 4, 8, 8, 3, 6, 5, 2, 5, 2, 5, 4, 6, 7, 5, 9, 2, 2, 9,\n",
              "       2, 6, 1, 5, 9, 7, 6, 5, 5, 5, 2, 2, 1, 4, 5, 1, 2, 8, 7, 3, 1, 9,\n",
              "       5, 4, 6, 2, 7, 8, 1, 4, 1, 3, 2, 4, 1, 3, 2, 3, 4, 9, 8, 2, 8, 8,\n",
              "       4, 2, 3, 9, 5, 3, 9, 1, 9, 6, 3, 5])"
            ]
          },
          "metadata": {},
          "execution_count": 48
        }
      ]
    },
    {
      "cell_type": "code",
      "source": [
        "# Se hizo una lista aleatoria de numeros y se escogio lo puros numeros pares\n",
        "p  = [i for i in np.random.randint(1,10, 100) if i%2==0]\n",
        "p"
      ],
      "metadata": {
        "id": "BouuJwkZhoR-",
        "colab": {
          "base_uri": "https://localhost:8080/"
        },
        "outputId": "9faf053e-fe27-435a-f8dc-9038a696f76e"
      },
      "execution_count": 53,
      "outputs": [
        {
          "output_type": "execute_result",
          "data": {
            "text/plain": [
              "[8,\n",
              " 8,\n",
              " 8,\n",
              " 8,\n",
              " 8,\n",
              " 8,\n",
              " 2,\n",
              " 6,\n",
              " 4,\n",
              " 8,\n",
              " 8,\n",
              " 4,\n",
              " 8,\n",
              " 2,\n",
              " 4,\n",
              " 6,\n",
              " 6,\n",
              " 2,\n",
              " 2,\n",
              " 6,\n",
              " 4,\n",
              " 8,\n",
              " 6,\n",
              " 6,\n",
              " 6,\n",
              " 2,\n",
              " 2,\n",
              " 6,\n",
              " 2,\n",
              " 2,\n",
              " 6,\n",
              " 6,\n",
              " 8,\n",
              " 8,\n",
              " 2,\n",
              " 6,\n",
              " 4,\n",
              " 8,\n",
              " 8,\n",
              " 8,\n",
              " 8]"
            ]
          },
          "metadata": {},
          "execution_count": 53
        }
      ]
    }
  ]
}