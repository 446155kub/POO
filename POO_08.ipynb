{
  "nbformat": 4,
  "nbformat_minor": 0,
  "metadata": {
    "colab": {
      "provenance": []
    },
    "kernelspec": {
      "name": "python3",
      "display_name": "Python 3"
    },
    "language_info": {
      "name": "python"
    }
  },
  "cells": [
    {
      "cell_type": "markdown",
      "source": [
        "1.   Describe cuáles son las diferencias entre clases y objetos.\n",
        "Las clases son modelos sobre los cuales se constuiran los objetos\n",
        "2. Describe por qué usamos self como primer argumento en los métodos.\n",
        "3. ¿Qué es un constructor? ¿Y por qué lo usamos?\n",
        "Se encarga de inicializar un objeto, es una funcion que crea ese objeto\n",
        "4. Describir las diferencias entre los atributos de clase y de instancia. Los atributos son las propiedades que tienen los objetos de esa clase. La Los metodos son las acciones que los objetos de la clase pueden realizar.\n",
        "5. La siguiente es una definición de la clase Punto que toma las coordenadas x, y. Agregue un método plot_point que trace la posición del punto.\n",
        "6. Documenta y prueba con algunos puntos el siguiente código:"
      ],
      "metadata": {
        "id": "adZOwc39uQzv"
      }
    },
    {
      "cell_type": "code",
      "execution_count": null,
      "metadata": {
        "colab": {
          "base_uri": "https://localhost:8080/"
        },
        "id": "x1YAHGT8oK9Y",
        "outputId": "c9774e77-0944-4a2c-8aaf-a0e8e9bce094"
      },
      "outputs": [
        {
          "output_type": "execute_result",
          "data": {
            "text/plain": [
              "True"
            ]
          },
          "metadata": {},
          "execution_count": 2
        }
      ],
      "source": [
        "isinstance(3, int)"
      ]
    },
    {
      "cell_type": "code",
      "source": [
        "#\n",
        "import matplotlib.pyplot as plt\n",
        "\n",
        "class Punto():\n",
        "  # Definimos cordenadas\n",
        "    def __init__(self, x, y):\n",
        "        self.x = x\n",
        "        self.y = y\n",
        "\n",
        "    def plot(self):\n",
        "        plt.scatter(self.x, self.y, color='blue', marker='o') # Color del punto\n",
        "        plt.xlabel('X-axis')  #Define el plano x\n",
        "        plt.ylabel('Y-axis') #Define el plano y\n",
        "        plt.title('Gráfica del punto') #Titulo de la grafica\n",
        "        plt.grid(True)\n",
        "        plt.show()"
      ],
      "metadata": {
        "id": "OIVw8lNupAjD"
      },
      "execution_count": 11,
      "outputs": []
    },
    {
      "cell_type": "code",
      "source": [
        "punto=Punto(1,10)\n",
        "punto.plot()"
      ],
      "metadata": {
        "colab": {
          "base_uri": "https://localhost:8080/",
          "height": 472
        },
        "id": "l9b_5Irqp_Sy",
        "outputId": "c77ec035-79b8-49f1-cf56-5d49c1524c43"
      },
      "execution_count": 15,
      "outputs": [
        {
          "output_type": "display_data",
          "data": {
            "text/plain": [
              "<Figure size 640x480 with 1 Axes>"
            ],
            "image/png": "[encoded data removed]"
          },
          "metadata": {}
        }
      ]
    },
    {
      "cell_type": "markdown",
      "source": [
        "7. Cree una clase para modelar algún objeto del mundo real y cree una nueva clase para heredar de él. Un ejemplo puede ser el siguiente. Deberías usar un ejemplo diferente y usar tantas cosas que aprendimos como sea posible.\n"
      ],
      "metadata": {
        "id": "OEQsmJOUxNoG"
      }
    },
    {
      "cell_type": "code",
      "source": [
        "class Eli(): #Creamos una clase\n",
        "#Creamos una definicion\n",
        "    def __init__(self, altura, peso):\n",
        "        self.altura = altura\n",
        "        self.peso = peso\n",
        "\n",
        "#Creamos una definicion\n",
        "class ejercicio(Eli):\n",
        "    def __init__(self, altura, peso, correr):\n",
        "        super().__init__(altura, peso)\n",
        "        self.correr = correr\n",
        "#Creamos una definicion\n",
        "    def ejercicio(self, correr):\n",
        "        if correr == 'correr':\n",
        "            print('¡Listo para correr!')\n",
        "        else:\n",
        "            print('no puedes correr')\n",
        "\n"
      ],
      "metadata": {
        "id": "9BBrme2SyBwh"
      },
      "execution_count": 18,
      "outputs": []
    },
    {
      "cell_type": "code",
      "source": [
        "eli = Eli(1.87,70)"
      ],
      "metadata": {
        "id": "q0rMTUbr7PzZ"
      },
      "execution_count": 20,
      "outputs": []
    },
    {
      "cell_type": "code",
      "source": [
        "eli_ej = ejercicio(1.87,70,10)"
      ],
      "metadata": {
        "id": "kVORlib37bV4"
      },
      "execution_count": 21,
      "outputs": []
    },
    {
      "cell_type": "code",
      "source": [
        "eli_ej.ejercicio(\"no\")"
      ],
      "metadata": {
        "colab": {
          "base_uri": "https://localhost:8080/"
        },
        "id": "B_TwV6C-7rxX",
        "outputId": "f12b66a0-f22a-4169-fa06-f685d6662ab6"
      },
      "execution_count": 22,
      "outputs": [
        {
          "output_type": "stream",
          "name": "stdout",
          "text": [
            "no puedes correr\n"
          ]
        }
      ]
    },
    {
      "cell_type": "code",
      "source": [
        "eli_ej.ejercicio(\"correr\")"
      ],
      "metadata": {
        "colab": {
          "base_uri": "https://localhost:8080/"
        },
        "id": "mCVZkii871TA",
        "outputId": "eed8748a-8e36-4f63-d7b0-210364d99f5e"
      },
      "execution_count": 23,
      "outputs": [
        {
          "output_type": "stream",
          "name": "stdout",
          "text": [
            "¡Listo para correr!\n"
          ]
        }
      ]
    }
  ]
}