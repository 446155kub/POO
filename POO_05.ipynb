{
  "nbformat": 4,
  "nbformat_minor": 0,
  "metadata": {
    "colab": {
      "provenance": []
    },
    "kernelspec": {
      "name": "python3",
      "display_name": "Python 3"
    },
    "language_info": {
      "name": "python"
    }
  },
  "cells": [
    {
      "cell_type": "markdown",
      "source": [
        "## clases herencias y polimorfismos"
      ],
      "metadata": {
        "id": "st8iuyYlYhSZ"
      }
    },
    {
      "cell_type": "code",
      "source": [
        "class Mascota(): #Creamos una clase llamada mascota\n",
        "\n",
        "    def __init__(self):\n",
        "        print(\"Creamos una clase madre\")\n",
        "\n",
        "    def adivina(self):\n",
        "        print(\"Hola soy un perro \")\n",
        "         #Polimorfismos\n",
        "\n",
        "    def hablar(self):\n",
        "        print(\"Ladro\")\n",
        "        #Polimorfismos\n",
        "\n",
        "\n",
        "    def pelo(self):\n",
        "        print(\"Tengo pelo \")\n",
        "         #Polimorfismos\n",
        "\n",
        "    def muerdo(self):\n",
        "        print(\"Muerdo\")\n",
        "        #Polimorfismos\n"
      ],
      "metadata": {
        "id": "U4ITuac-Yn-Z"
      },
      "execution_count": 1,
      "outputs": []
    },
    {
      "cell_type": "code",
      "source": [
        "mascota=Mascota()"
      ],
      "metadata": {
        "colab": {
          "base_uri": "https://localhost:8080/"
        },
        "id": "2eXTzbw-dWVK",
        "outputId": "b2c33260-5a93-4fc7-de90-1823a6237916"
      },
      "execution_count": 2,
      "outputs": [
        {
          "output_type": "stream",
          "name": "stdout",
          "text": [
            "Creamos una clase madre\n"
          ]
        }
      ]
    },
    {
      "cell_type": "code",
      "source": [
        "mascota.adivina()"
      ],
      "metadata": {
        "colab": {
          "base_uri": "https://localhost:8080/"
        },
        "id": "MZ1AK7frd0Dg",
        "outputId": "a3e49fe2-6da0-4fbc-d199-4057378938b1"
      },
      "execution_count": 3,
      "outputs": [
        {
          "output_type": "stream",
          "name": "stdout",
          "text": [
            "Hola soy un perro \n"
          ]
        }
      ]
    },
    {
      "cell_type": "code",
      "source": [
        "mascota.hablar()\n"
      ],
      "metadata": {
        "colab": {
          "base_uri": "https://localhost:8080/"
        },
        "id": "82qKjLBTd_vh",
        "outputId": "ce5396e8-b628-4c81-8118-fc4b166f750f"
      },
      "execution_count": 4,
      "outputs": [
        {
          "output_type": "stream",
          "name": "stdout",
          "text": [
            "Ladro\n"
          ]
        }
      ]
    },
    {
      "cell_type": "code",
      "source": [
        "mascota.pelo()"
      ],
      "metadata": {
        "colab": {
          "base_uri": "https://localhost:8080/"
        },
        "id": "XU5--L9fffEw",
        "outputId": "c9bc1118-45e5-4a21-af49-2cb2367d1564"
      },
      "execution_count": 5,
      "outputs": [
        {
          "output_type": "stream",
          "name": "stdout",
          "text": [
            "Tengo pelo \n"
          ]
        }
      ]
    },
    {
      "cell_type": "code",
      "source": [
        "mascota.muerdo()"
      ],
      "metadata": {
        "colab": {
          "base_uri": "https://localhost:8080/"
        },
        "id": "D_-QBumWfugv",
        "outputId": "c4a0b2a5-e09b-4c65-b71c-9bd109595082"
      },
      "execution_count": 6,
      "outputs": [
        {
          "output_type": "stream",
          "name": "stdout",
          "text": [
            "Muerdo\n"
          ]
        }
      ]
    },
    {
      "cell_type": "markdown",
      "source": [
        "## Crear una Herencia"
      ],
      "metadata": {
        "id": "5KMyr_3Jgdxv"
      }
    },
    {
      "cell_type": "code",
      "source": [
        "class Perro(Mascota):\n",
        "\n",
        "  def __init__(self):\n",
        "    Mascota.__init__(self)\n",
        "    print(\"creamos una clase heredada\")\n",
        "\n",
        "  def nombre(self):\n",
        "    print(\"luna\")\n",
        "    #polimorfismos\n",
        "\n",
        "  def idioma(self):\n",
        "    print(\"WUAF\")\n",
        "    #Polimorfismos\n",
        "\n",
        "  def adivina(self):\n",
        "    print(\"pastor aleman\")\n",
        "    #Polimorfismos\n"
      ],
      "metadata": {
        "id": "KKFeuIvLggOG"
      },
      "execution_count": 7,
      "outputs": []
    },
    {
      "cell_type": "code",
      "source": [
        "perro = Perro() # Llamamos a la clase heredada"
      ],
      "metadata": {
        "colab": {
          "base_uri": "https://localhost:8080/"
        },
        "id": "DFpzIq1ekWiR",
        "outputId": "27637fae-0ec4-43e7-ed9f-1e1e659c889c"
      },
      "execution_count": 8,
      "outputs": [
        {
          "output_type": "stream",
          "name": "stdout",
          "text": [
            "Creamos una clase madre\n",
            "creamos una clase heredada\n"
          ]
        }
      ]
    },
    {
      "cell_type": "code",
      "source": [
        "mascota.adivina()"
      ],
      "metadata": {
        "colab": {
          "base_uri": "https://localhost:8080/"
        },
        "id": "JO_Ura4zkmQm",
        "outputId": "2abaaa4c-290f-462c-f272-377bfa4ae38f"
      },
      "execution_count": 9,
      "outputs": [
        {
          "output_type": "stream",
          "name": "stdout",
          "text": [
            "Hola soy un perro \n"
          ]
        }
      ]
    },
    {
      "cell_type": "code",
      "source": [
        "perro.adivina()"
      ],
      "metadata": {
        "colab": {
          "base_uri": "https://localhost:8080/"
        },
        "id": "b7-n-znxk39Y",
        "outputId": "8686a029-958c-497e-aa68-035a99d8202e"
      },
      "execution_count": 10,
      "outputs": [
        {
          "output_type": "stream",
          "name": "stdout",
          "text": [
            "pastor aleman\n"
          ]
        }
      ]
    },
    {
      "cell_type": "markdown",
      "source": [
        "## Ejercicio"
      ],
      "metadata": {
        "id": "qbuKPOxMmhXG"
      }
    },
    {
      "cell_type": "code",
      "source": [
        "class Eli(): #Creamos una clase.\n",
        "\n",
        "    def altura(self):\n",
        "        print(\"1.90 \")\n",
        "         #Polimorfismos\n",
        "\n",
        "    def comida(self):\n",
        "        print(\"sushi\")\n",
        "        #Polimorfismos\n",
        "\n",
        "\n",
        "    def universidad(self):\n",
        "        print(\"UP\")\n",
        "         #Polimorfismos\n",
        "\n",
        "    def vivo(self):\n",
        "        print(\"Casa\")\n",
        "        #Polimorfismos"
      ],
      "metadata": {
        "id": "D1f-_Rremi7X"
      },
      "execution_count": 11,
      "outputs": []
    },
    {
      "cell_type": "code",
      "source": [
        "eli = Eli()"
      ],
      "metadata": {
        "id": "hN3ZBn1MniuA"
      },
      "execution_count": 13,
      "outputs": []
    },
    {
      "cell_type": "code",
      "source": [
        "eli.comida()"
      ],
      "metadata": {
        "colab": {
          "base_uri": "https://localhost:8080/"
        },
        "id": "zwKlAlHNnFwU",
        "outputId": "a543db97-f032-4929-bd48-529c425d5ba8"
      },
      "execution_count": 15,
      "outputs": [
        {
          "output_type": "stream",
          "name": "stdout",
          "text": [
            "sushi\n"
          ]
        }
      ]
    },
    {
      "cell_type": "code",
      "source": [
        "eli.vivo()"
      ],
      "metadata": {
        "colab": {
          "base_uri": "https://localhost:8080/"
        },
        "id": "K3SicLUrnqD1",
        "outputId": "1a106873-3d31-4244-9bac-188e77aa5226"
      },
      "execution_count": 17,
      "outputs": [
        {
          "output_type": "stream",
          "name": "stdout",
          "text": [
            "Casa\n"
          ]
        }
      ]
    },
    {
      "cell_type": "code",
      "source": [
        "eli.comida()"
      ],
      "metadata": {
        "colab": {
          "base_uri": "https://localhost:8080/"
        },
        "id": "n0-PtwrJnvZ2",
        "outputId": "3d7af60c-09c7-45f5-8ea9-2bd2b0073f38"
      },
      "execution_count": 19,
      "outputs": [
        {
          "output_type": "stream",
          "name": "stdout",
          "text": [
            "sushi\n"
          ]
        }
      ]
    },
    {
      "cell_type": "code",
      "source": [
        "eli.universidad()"
      ],
      "metadata": {
        "colab": {
          "base_uri": "https://localhost:8080/"
        },
        "id": "cjZ0RXaBnnFU",
        "outputId": "ab6f9f75-16ac-49fe-9930-5c8d0da0f7d5"
      },
      "execution_count": 21,
      "outputs": [
        {
          "output_type": "stream",
          "name": "stdout",
          "text": [
            "UP\n"
          ]
        }
      ]
    },
    {
      "cell_type": "code",
      "source": [
        "eli.altura()"
      ],
      "metadata": {
        "colab": {
          "base_uri": "https://localhost:8080/"
        },
        "id": "GXEJBYMMoD1V",
        "outputId": "ae511291-f51b-4378-ca99-e48441cf2cb5"
      },
      "execution_count": 23,
      "outputs": [
        {
          "output_type": "stream",
          "name": "stdout",
          "text": [
            "1.90 \n"
          ]
        }
      ]
    }
  ]
}