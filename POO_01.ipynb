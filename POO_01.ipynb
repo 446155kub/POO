{
  "nbformat": 4,
  "nbformat_minor": 0,
  "metadata": {
    "colab": {
      "provenance": []
    },
    "kernelspec": {
      "name": "python3",
      "display_name": "Python 3"
    },
    "language_info": {
      "name": "python"
    }
  },
  "cells": [
    {
      "cell_type": "markdown",
      "source": [
        "# primeros objetos\n",
        "\n",
        "\n",
        "1.   objetos.   \n",
        "2.   listas.\n",
        "3.   Conjuntos.\n",
        "\n"
      ],
      "metadata": {
        "id": "BdJU02oqkCPu"
      }
    },
    {
      "cell_type": "markdown",
      "source": [
        "En python se pueden realizar operaciones sobre objetos. Ademas es util para resolver ecuaciones lineales.\n",
        "$$\n",
        "f(x,y)\\begin{cases}\n",
        "x+2y&=3 \\\\\n",
        "2x+4y&=6\n",
        "\\end{cases}\n",
        "$$"
      ],
      "metadata": {
        "id": "DSCrMPxnlZCm"
      }
    },
    {
      "cell_type": "code",
      "source": [
        "print(\"Holamundo\")"
      ],
      "metadata": {
        "colab": {
          "base_uri": "https://localhost:8080/"
        },
        "id": "pyqNl_8fqwya",
        "outputId": "c8c083c5-b0c1-4bc5-aba0-f3a0d9bb260b"
      },
      "execution_count": 6,
      "outputs": [
        {
          "output_type": "stream",
          "name": "stdout",
          "text": [
            "Holamundo\n"
          ]
        }
      ]
    },
    {
      "cell_type": "markdown",
      "source": [
        "## primeros objetos\n",
        "\n",
        "\n",
        "*   numeros enteros\n",
        "*   numeros flotantes\n",
        "\n"
      ],
      "metadata": {
        "id": "IkoRXh-GrpbI"
      }
    },
    {
      "cell_type": "code",
      "source": [
        "# crear variables\n",
        "x = 3\n",
        "y = 5"
      ],
      "metadata": {
        "id": "z0GkBOKosRZk"
      },
      "execution_count": 7,
      "outputs": []
    },
    {
      "cell_type": "code",
      "source": [
        "print (x+y)\n",
        "print (x-y)\n",
        "print (x/y)\n",
        "print (x*y)\n",
        "print (x**y)\n",
        "print (x//y)\n",
        "print (x%y)\n"
      ],
      "metadata": {
        "colab": {
          "base_uri": "https://localhost:8080/"
        },
        "id": "mDeEnI2Os8V3",
        "outputId": "2eb3458c-0f19-45ea-923f-110bc7f2e06b"
      },
      "execution_count": 14,
      "outputs": [
        {
          "output_type": "stream",
          "name": "stdout",
          "text": [
            "8\n",
            "-2\n",
            "0.6\n",
            "15\n",
            "243\n",
            "0\n",
            "3\n"
          ]
        }
      ]
    },
    {
      "cell_type": "code",
      "source": [
        "type(x+y)"
      ],
      "metadata": {
        "colab": {
          "base_uri": "https://localhost:8080/"
        },
        "id": "-VvwPvIhwASE",
        "outputId": "9ef122b4-e2cb-464d-bfc0-3356199d3570"
      },
      "execution_count": 15,
      "outputs": [
        {
          "output_type": "execute_result",
          "data": {
            "text/plain": [
              "int"
            ]
          },
          "metadata": {},
          "execution_count": 15
        }
      ]
    },
    {
      "cell_type": "code",
      "source": [
        "type (x/y)"
      ],
      "metadata": {
        "colab": {
          "base_uri": "https://localhost:8080/"
        },
        "id": "tkW2ndkhwFf4",
        "outputId": "0f95ebf0-31fa-4747-929d-bfcf5c336c75"
      },
      "execution_count": 16,
      "outputs": [
        {
          "output_type": "execute_result",
          "data": {
            "text/plain": [
              "float"
            ]
          },
          "metadata": {},
          "execution_count": 16
        }
      ]
    }
  ]
}